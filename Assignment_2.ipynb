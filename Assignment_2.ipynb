{
  "nbformat": 4,
  "nbformat_minor": 0,
  "metadata": {
    "colab": {
      "name": "Assignment#2.ipynb",
      "provenance": [],
      "collapsed_sections": [],
      "authorship_tag": "ABX9TyN32E9IXgh60T/lHXdMrL3A",
      "include_colab_link": true
    },
    "kernelspec": {
      "name": "python3",
      "display_name": "Python 3"
    },
    "language_info": {
      "name": "python"
    }
  },
  "cells": [
    {
      "cell_type": "markdown",
      "metadata": {
        "id": "view-in-github",
        "colab_type": "text"
      },
      "source": [
        "<a href=\"https://colab.research.google.com/github/CarlBayking/JamesBayking/blob/main/Assignment_2.ipynb\" target=\"_parent\"><img src=\"https://colab.research.google.com/assets/colab-badge.svg\" alt=\"Open In Colab\"/></a>"
      ]
    },
    {
      "cell_type": "markdown",
      "metadata": {
        "id": "NG9YlHcRVhkj"
      },
      "source": [
        "# WELCOME TO PYTHON FUNDAMETALS\n",
        "In this module, we are going to establish our skills in Python programming.in this notebook we are going to cover:\n",
        "\n",
        "*   Variables and Data Types\n",
        "*   Operations\n",
        "*   Input and Output Operations\n",
        "*   Logic Control\n",
        "*   Iterables\n",
        "*   Functions"
      ]
    },
    {
      "cell_type": "markdown",
      "metadata": {
        "id": "u8A6La0DWlVv"
      },
      "source": [
        "## VARIABLES AND DATA TYPES\n",
        "Variables are anything that may vary, it is the memory location wherein the user stores its designated value. Data types on the other hand, is the attribute of data which which shows how the the program interpreter plan to use the said data."
      ]
    },
    {
      "cell_type": "code",
      "metadata": {
        "id": "rOYCdTE0Pj09"
      },
      "source": [
        "x = 1\n",
        "a, b = 3, -2"
      ],
      "execution_count": 1,
      "outputs": []
    },
    {
      "cell_type": "code",
      "metadata": {
        "id": "nJcxKHDJX8hh",
        "colab": {
          "base_uri": "https://localhost:8080/",
          "height": 0
        },
        "outputId": "a949a0d5-d0d7-4416-9fc9-7c0e28b8e2ad"
      },
      "source": [
        "type(x)"
      ],
      "execution_count": 2,
      "outputs": [
        {
          "output_type": "execute_result",
          "data": {
            "text/plain": [
              "int"
            ]
          },
          "metadata": {},
          "execution_count": 2
        }
      ]
    },
    {
      "cell_type": "code",
      "metadata": {
        "id": "kpZdedy8YOew",
        "colab": {
          "base_uri": "https://localhost:8080/",
          "height": 0
        },
        "outputId": "9dc0c6aa-fb23-4893-8f4d-b28974e87df6"
      },
      "source": [
        "y = 3.0\n",
        "type(y)"
      ],
      "execution_count": 3,
      "outputs": [
        {
          "output_type": "execute_result",
          "data": {
            "text/plain": [
              "float"
            ]
          },
          "metadata": {},
          "execution_count": 3
        }
      ]
    },
    {
      "cell_type": "code",
      "metadata": {
        "id": "T1oqLj7-Yp24",
        "colab": {
          "base_uri": "https://localhost:8080/",
          "height": 0
        },
        "outputId": "f7885f70-87d2-4d61-cb34-ea827151089e"
      },
      "source": [
        "x = float(x)\n",
        "type(x)"
      ],
      "execution_count": 4,
      "outputs": [
        {
          "output_type": "execute_result",
          "data": {
            "text/plain": [
              "float"
            ]
          },
          "metadata": {},
          "execution_count": 4
        }
      ]
    },
    {
      "cell_type": "code",
      "metadata": {
        "id": "Xhayl8jQZMNm",
        "colab": {
          "base_uri": "https://localhost:8080/",
          "height": 0
        },
        "outputId": "d673220b-50ef-4072-e32a-68cd4b0f8ff6"
      },
      "source": [
        "s, t, u = \"1\", '3', 'three'\n",
        "type(u)"
      ],
      "execution_count": 5,
      "outputs": [
        {
          "output_type": "execute_result",
          "data": {
            "text/plain": [
              "str"
            ]
          },
          "metadata": {},
          "execution_count": 5
        }
      ]
    },
    {
      "cell_type": "markdown",
      "metadata": {
        "id": "ffWrXqV1Z3Zu"
      },
      "source": [
        "## OPERATIONS\n",
        "\n",
        "The Operations are, as the name suggests, are methods in how the programming language will simplify the values that are provided by the user. One of the most common usage of operations is when the user will use mathematical equations to solve problems. Colab uses symbols instead of the normal mathematical language used by humans."
      ]
    },
    {
      "cell_type": "markdown",
      "metadata": {
        "id": "xTe2n96haB6e"
      },
      "source": [
        "### Arithmetic\n",
        "\n",
        "Aritmetic operation is used to perform mathematical operations in solving the\n",
        "equations that was inputted in the medium."
      ]
    },
    {
      "cell_type": "code",
      "metadata": {
        "id": "SIw8fKtoaTnw"
      },
      "source": [
        "w, x ,y, z = 4.0, -3.0, 2, -32"
      ],
      "execution_count": 6,
      "outputs": []
    },
    {
      "cell_type": "code",
      "metadata": {
        "colab": {
          "base_uri": "https://localhost:8080/",
          "height": 0
        },
        "id": "9mLFqUila4x2",
        "outputId": "d69fd253-dd7f-4e0d-a4ff-c96d40da9f14"
      },
      "source": [
        "### Addition\n",
        "S = w + x\n",
        "S"
      ],
      "execution_count": 7,
      "outputs": [
        {
          "output_type": "execute_result",
          "data": {
            "text/plain": [
              "1.0"
            ]
          },
          "metadata": {},
          "execution_count": 7
        }
      ]
    },
    {
      "cell_type": "code",
      "metadata": {
        "id": "2gbOqzJtbiU1",
        "colab": {
          "base_uri": "https://localhost:8080/",
          "height": 0
        },
        "outputId": "89fc349b-68e4-4305-bc64-4ca969b64236"
      },
      "source": [
        "### Subtraction\n",
        "D = y - z\n",
        "D"
      ],
      "execution_count": 8,
      "outputs": [
        {
          "output_type": "execute_result",
          "data": {
            "text/plain": [
              "34"
            ]
          },
          "metadata": {},
          "execution_count": 8
        }
      ]
    },
    {
      "cell_type": "code",
      "metadata": {
        "id": "vfgcrkaob72F",
        "colab": {
          "base_uri": "https://localhost:8080/",
          "height": 0
        },
        "outputId": "1a448069-b291-4b2c-8038-c150120ee9d7"
      },
      "source": [
        "### Multiplication\n",
        "P = w*z\n",
        "P"
      ],
      "execution_count": 9,
      "outputs": [
        {
          "output_type": "execute_result",
          "data": {
            "text/plain": [
              "-128.0"
            ]
          },
          "metadata": {},
          "execution_count": 9
        }
      ]
    },
    {
      "cell_type": "code",
      "metadata": {
        "id": "OCHwuYGMdkzm",
        "colab": {
          "base_uri": "https://localhost:8080/",
          "height": 0
        },
        "outputId": "f36dd453-f279-4f16-b0d1-198454843536"
      },
      "source": [
        "### Division\n",
        "Q = y/x\n",
        "Q"
      ],
      "execution_count": 10,
      "outputs": [
        {
          "output_type": "execute_result",
          "data": {
            "text/plain": [
              "-0.6666666666666666"
            ]
          },
          "metadata": {},
          "execution_count": 10
        }
      ]
    },
    {
      "cell_type": "code",
      "metadata": {
        "id": "apkf44xddp2N",
        "colab": {
          "base_uri": "https://localhost:8080/",
          "height": 0
        },
        "outputId": "a826f95d-2f7b-45c2-eeb8-d7ab442f6e7e"
      },
      "source": [
        "### Floor Division\n",
        "Qf = w//x\n",
        "Qf "
      ],
      "execution_count": 11,
      "outputs": [
        {
          "output_type": "execute_result",
          "data": {
            "text/plain": [
              "-2.0"
            ]
          },
          "metadata": {},
          "execution_count": 11
        }
      ]
    },
    {
      "cell_type": "code",
      "metadata": {
        "id": "t3CYhY3sejZt"
      },
      "source": [
        "### Exponentiation\n",
        "E = w**w"
      ],
      "execution_count": 12,
      "outputs": []
    },
    {
      "cell_type": "code",
      "metadata": {
        "id": "KPhZAeg0e9L1",
        "colab": {
          "base_uri": "https://localhost:8080/",
          "height": 0
        },
        "outputId": "517216cb-2fde-49b2-9b99-55fb5aaf6e9e"
      },
      "source": [
        "### Modulo\n",
        "mod = z%x\n",
        "mod"
      ],
      "execution_count": 13,
      "outputs": [
        {
          "output_type": "execute_result",
          "data": {
            "text/plain": [
              "-2.0"
            ]
          },
          "metadata": {},
          "execution_count": 13
        }
      ]
    },
    {
      "cell_type": "markdown",
      "metadata": {
        "id": "82nh8MwxfViM"
      },
      "source": [
        "### Assignment\n",
        "\n",
        "this are operators used to 'assign' values to its designated variables, \n",
        "\"=\" is one example of an assignment operators."
      ]
    },
    {
      "cell_type": "code",
      "metadata": {
        "id": "yB2G6fCGfdXN"
      },
      "source": [
        "A, B, C, D, E = 0, 100, 2, 1, 2"
      ],
      "execution_count": 14,
      "outputs": []
    },
    {
      "cell_type": "code",
      "metadata": {
        "id": "vp3w-qO8fp9v",
        "colab": {
          "base_uri": "https://localhost:8080/",
          "height": 0
        },
        "outputId": "fd16498e-c547-436c-8a09-ab2a39eecada"
      },
      "source": [
        "A += w\n",
        "A"
      ],
      "execution_count": 15,
      "outputs": [
        {
          "output_type": "execute_result",
          "data": {
            "text/plain": [
              "4.0"
            ]
          },
          "metadata": {},
          "execution_count": 15
        }
      ]
    },
    {
      "cell_type": "code",
      "metadata": {
        "id": "oQ2YM4V6gFDd",
        "colab": {
          "base_uri": "https://localhost:8080/",
          "height": 0
        },
        "outputId": "c6f15c1e-aa63-41a2-eef9-0ca5f90024ac"
      },
      "source": [
        "B -= x\n",
        "B"
      ],
      "execution_count": 16,
      "outputs": [
        {
          "output_type": "execute_result",
          "data": {
            "text/plain": [
              "103.0"
            ]
          },
          "metadata": {},
          "execution_count": 16
        }
      ]
    },
    {
      "cell_type": "code",
      "metadata": {
        "id": "UZp6CYkZgdzE",
        "colab": {
          "base_uri": "https://localhost:8080/",
          "height": 0
        },
        "outputId": "c9f482b4-25ef-41d7-bc8f-8755011cd632"
      },
      "source": [
        "C *= w\n",
        "C"
      ],
      "execution_count": 17,
      "outputs": [
        {
          "output_type": "execute_result",
          "data": {
            "text/plain": [
              "8.0"
            ]
          },
          "metadata": {},
          "execution_count": 17
        }
      ]
    },
    {
      "cell_type": "code",
      "metadata": {
        "id": "8tQTpsChiG08"
      },
      "source": [
        "D /= x"
      ],
      "execution_count": 18,
      "outputs": []
    },
    {
      "cell_type": "code",
      "metadata": {
        "id": "JT_t54P0iJNd"
      },
      "source": [
        "E **= y"
      ],
      "execution_count": 19,
      "outputs": []
    },
    {
      "cell_type": "markdown",
      "metadata": {
        "id": "CUr2bMwvjtnc"
      },
      "source": [
        "### Comparators\n",
        "\n",
        "Comparators are normally used to take 2 values/variables and compare them together."
      ]
    },
    {
      "cell_type": "code",
      "metadata": {
        "id": "qiyBenANYOUg"
      },
      "source": [
        "size_1, size_2, size_3 = 1, 2.0, \"1\"\n",
        "true_size = 1.0"
      ],
      "execution_count": 20,
      "outputs": []
    },
    {
      "cell_type": "code",
      "metadata": {
        "id": "7cSOOUlYYhX9",
        "colab": {
          "base_uri": "https://localhost:8080/",
          "height": 0
        },
        "outputId": "3784dc0e-1a78-4d8f-c27b-ce4fe43e769d"
      },
      "source": [
        "## Equality\n",
        "size_1 == true_size"
      ],
      "execution_count": 21,
      "outputs": [
        {
          "output_type": "execute_result",
          "data": {
            "text/plain": [
              "True"
            ]
          },
          "metadata": {},
          "execution_count": 21
        }
      ]
    },
    {
      "cell_type": "code",
      "metadata": {
        "colab": {
          "base_uri": "https://localhost:8080/",
          "height": 0
        },
        "id": "K_J5kTIgY9Ox",
        "outputId": "fa0c4373-54ac-46fe-df8e-43d9b8184ae5"
      },
      "source": [
        "## Non-Equality\n",
        "size_2 != true_size"
      ],
      "execution_count": 22,
      "outputs": [
        {
          "output_type": "execute_result",
          "data": {
            "text/plain": [
              "True"
            ]
          },
          "metadata": {},
          "execution_count": 22
        }
      ]
    },
    {
      "cell_type": "code",
      "metadata": {
        "id": "OIu-EeH8ZIg6"
      },
      "source": [
        "## Inequality\n",
        "s1 = size_1 > size_2\n",
        "s2 = size_1 < size_2/2\n",
        "s3 = true_size >= size_1\n",
        "s4 = size_2 <= true_size"
      ],
      "execution_count": 23,
      "outputs": []
    },
    {
      "cell_type": "markdown",
      "metadata": {
        "id": "n289QVBTbqtq"
      },
      "source": [
        "### Logical\n",
        "\n",
        "A Logical Statement is a declarative sentence tells information (disjunction, conjuction,etc.) , which can also be done in Colab as seen below."
      ]
    },
    {
      "cell_type": "code",
      "metadata": {
        "id": "AqGvF3KbbyAx",
        "colab": {
          "base_uri": "https://localhost:8080/",
          "height": 0
        },
        "outputId": "2f3d855d-a538-489f-830b-072205bdc4a6"
      },
      "source": [
        "size_1 == true_size"
      ],
      "execution_count": 24,
      "outputs": [
        {
          "output_type": "execute_result",
          "data": {
            "text/plain": [
              "True"
            ]
          },
          "metadata": {},
          "execution_count": 24
        }
      ]
    },
    {
      "cell_type": "code",
      "metadata": {
        "id": "N42b3M_yb-FB",
        "colab": {
          "base_uri": "https://localhost:8080/",
          "height": 0
        },
        "outputId": "e335ffbc-4eeb-4880-d0d8-8a43c5c7f6af"
      },
      "source": [
        "size_1 is true_size"
      ],
      "execution_count": 25,
      "outputs": [
        {
          "output_type": "execute_result",
          "data": {
            "text/plain": [
              "False"
            ]
          },
          "metadata": {},
          "execution_count": 25
        }
      ]
    },
    {
      "cell_type": "code",
      "metadata": {
        "id": "xiemKzokcvCx",
        "colab": {
          "base_uri": "https://localhost:8080/",
          "height": 0
        },
        "outputId": "79b12a07-19ea-48c2-b2ff-89d0d98fbb18"
      },
      "source": [
        "size_1 is not true_size"
      ],
      "execution_count": 26,
      "outputs": [
        {
          "output_type": "execute_result",
          "data": {
            "text/plain": [
              "True"
            ]
          },
          "metadata": {},
          "execution_count": 26
        }
      ]
    },
    {
      "cell_type": "code",
      "metadata": {
        "id": "lLvna4RLc655"
      },
      "source": [
        "P, Q = True, False\n",
        "conj = P and Q"
      ],
      "execution_count": 27,
      "outputs": []
    },
    {
      "cell_type": "code",
      "metadata": {
        "id": "aF-PZL4Nd80K",
        "colab": {
          "base_uri": "https://localhost:8080/",
          "height": 0
        },
        "outputId": "01dafec0-a1ed-427b-c930-92af3fbd3d22"
      },
      "source": [
        "disj = P or Q\n",
        "disj"
      ],
      "execution_count": 28,
      "outputs": [
        {
          "output_type": "execute_result",
          "data": {
            "text/plain": [
              "True"
            ]
          },
          "metadata": {},
          "execution_count": 28
        }
      ]
    },
    {
      "cell_type": "code",
      "metadata": {
        "colab": {
          "base_uri": "https://localhost:8080/",
          "height": 0
        },
        "id": "0L226qq4eL4o",
        "outputId": "c40aeb82-34bc-4902-ae15-1560e55c5282"
      },
      "source": [
        "nand = not (P and Q)\n",
        "nand"
      ],
      "execution_count": 29,
      "outputs": [
        {
          "output_type": "execute_result",
          "data": {
            "text/plain": [
              "True"
            ]
          },
          "metadata": {},
          "execution_count": 29
        }
      ]
    },
    {
      "cell_type": "code",
      "metadata": {
        "id": "6zC-abcSeYBZ",
        "colab": {
          "base_uri": "https://localhost:8080/",
          "height": 0
        },
        "outputId": "060cbe6a-29ac-4de2-f19f-aa840eda172f"
      },
      "source": [
        "xor = (not P and Q) or (P and not Q)\n",
        "xor"
      ],
      "execution_count": 30,
      "outputs": [
        {
          "output_type": "execute_result",
          "data": {
            "text/plain": [
              "True"
            ]
          },
          "metadata": {},
          "execution_count": 30
        }
      ]
    },
    {
      "cell_type": "markdown",
      "metadata": {
        "id": "_RQJzJqmezC0"
      },
      "source": [
        "## Input and Output\n",
        "\n",
        "Input is the process wherein the user 'inputs' a command so the application can show its result. the Output on the other-hand, is the shown 'result' of the input."
      ]
    },
    {
      "cell_type": "code",
      "metadata": {
        "id": "9UqGypree2rg",
        "colab": {
          "base_uri": "https://localhost:8080/",
          "height": 0
        },
        "outputId": "1d162667-ef9d-4799-f4f6-c9776e8ca310"
      },
      "source": [
        "print(\"HELLO WORLD! How na U\")"
      ],
      "execution_count": 31,
      "outputs": [
        {
          "output_type": "stream",
          "name": "stdout",
          "text": [
            "HELLO WORLD! How na U\n"
          ]
        }
      ]
    },
    {
      "cell_type": "code",
      "metadata": {
        "id": "ifYWG9DyfEYA"
      },
      "source": [
        "cnt = 14000"
      ],
      "execution_count": 32,
      "outputs": []
    },
    {
      "cell_type": "code",
      "metadata": {
        "id": "KOSDYT9QfI4P",
        "colab": {
          "base_uri": "https://localhost:8080/",
          "height": 0
        },
        "outputId": "d5e2def9-a10c-4f1b-e9f6-005b95578d9c"
      },
      "source": [
        "string = \"Hello World!\"\n",
        "print(string, \", Current COVID count is:\", cnt)\n",
        "cnt += 10000"
      ],
      "execution_count": 33,
      "outputs": [
        {
          "output_type": "stream",
          "name": "stdout",
          "text": [
            "Hello World! , Current COVID count is: 14000\n"
          ]
        }
      ]
    },
    {
      "cell_type": "code",
      "metadata": {
        "colab": {
          "base_uri": "https://localhost:8080/",
          "height": 0
        },
        "id": "OGmz4-gvgIRG",
        "outputId": "2e93c782-02d8-4522-842b-bcac7942c6c7"
      },
      "source": [
        "print(f\"{string}, current count is: {cnt}\")"
      ],
      "execution_count": 34,
      "outputs": [
        {
          "output_type": "stream",
          "name": "stdout",
          "text": [
            "Hello World!, current count is: 24000\n"
          ]
        }
      ]
    },
    {
      "cell_type": "code",
      "metadata": {
        "colab": {
          "base_uri": "https://localhost:8080/",
          "height": 0
        },
        "id": "3rKLdB5phL_l",
        "outputId": "7edaaa12-265e-47d8-ec08-c18d86d57c0e"
      },
      "source": [
        "sem_grade = 86.25\n",
        "name = \"Carl\"\n",
        "print(\"Hello {}, your Semestral grade is: {}\".format(name, sem_grade))"
      ],
      "execution_count": 35,
      "outputs": [
        {
          "output_type": "stream",
          "name": "stdout",
          "text": [
            "Hello Carl, your Semestral grade is: 86.25\n"
          ]
        }
      ]
    },
    {
      "cell_type": "code",
      "metadata": {
        "id": "xCAJpLD9gfn7",
        "colab": {
          "base_uri": "https://localhost:8080/",
          "height": 0
        },
        "outputId": "4cd4fdf7-62d9-45ef-c4be-2903a84fde07"
      },
      "source": [
        "pg, mg, fg = 0.3, 0.3, 0.4\n",
        "print(\"The weights of your Semestral Grade are:\\\n",
        "\\n\\t {:.2%} for Prelims\\\n",
        "\\n\\t {:.2%} for Midterms, and\\\n",
        "\\n\\t {:.2%} for Finals.\".format(pg, mg, fg))"
      ],
      "execution_count": 36,
      "outputs": [
        {
          "output_type": "stream",
          "name": "stdout",
          "text": [
            "The weights of your Semestral Grade are:\n",
            "\t 30.00% for Prelims\n",
            "\t 30.00% for Midterms, and\n",
            "\t 40.00% for Finals.\n"
          ]
        }
      ]
    },
    {
      "cell_type": "code",
      "metadata": {
        "id": "MTJnTHOljZOn",
        "colab": {
          "base_uri": "https://localhost:8080/",
          "height": 0
        },
        "outputId": "27a1be1d-02f8-47da-c5c9-c34cadd1d24b"
      },
      "source": [
        "e = input(\"Enter a Number: \")"
      ],
      "execution_count": 37,
      "outputs": [
        {
          "name": "stdout",
          "output_type": "stream",
          "text": [
            "Enter a Number: 1\n"
          ]
        }
      ]
    },
    {
      "cell_type": "code",
      "metadata": {
        "id": "CiAGMpp7j-kx",
        "colab": {
          "base_uri": "https://localhost:8080/",
          "height": 0
        },
        "outputId": "aa309ac0-1a36-437b-fc8a-3981b3a3ea44"
      },
      "source": [
        "name = input(\"Enter your name: \")\n",
        "pg = input(\"Enter Prelim Grade: \")\n",
        "mg = input(\"Enter Midterm Grade: \")\n",
        "fg = input(\"Enter Finals Grade: \")\n",
        "sem_grade = None\n",
        "print(\"Hello {}, Your Semestral Grade is: {}\".format(name, sem_grade))"
      ],
      "execution_count": 38,
      "outputs": [
        {
          "output_type": "stream",
          "name": "stdout",
          "text": [
            "Enter your name: carl\n",
            "Enter Prelim Grade: 90\n",
            "Enter Midterm Grade: 90\n",
            "Enter Finals Grade: 90\n",
            "Hello carl, Your Semestral Grade is: None\n"
          ]
        }
      ]
    },
    {
      "cell_type": "markdown",
      "metadata": {
        "id": "tiGMcYp_oHuX"
      },
      "source": [
        "## Looping Statements"
      ]
    },
    {
      "cell_type": "markdown",
      "metadata": {
        "id": "jDNNIFWYoQAW"
      },
      "source": [
        "## While\n",
        "\n",
        "Is a loop wherein it is used to execute a inputted piece of variables/value repeatedly until the condition which you've inputted is satisfied."
      ]
    },
    {
      "cell_type": "code",
      "metadata": {
        "colab": {
          "base_uri": "https://localhost:8080/",
          "height": 0
        },
        "id": "WnfhAg2ToZ2r",
        "outputId": "0456be14-0400-4f96-88ab-9b19d62ffe67"
      },
      "source": [
        "## while loops\n",
        "i, j = 0, 10\n",
        "while(i<=j):\n",
        "  print(f\"{i}\\t|\\t{j}\")\n",
        "  i += 1"
      ],
      "execution_count": 39,
      "outputs": [
        {
          "output_type": "stream",
          "name": "stdout",
          "text": [
            "0\t|\t10\n",
            "1\t|\t10\n",
            "2\t|\t10\n",
            "3\t|\t10\n",
            "4\t|\t10\n",
            "5\t|\t10\n",
            "6\t|\t10\n",
            "7\t|\t10\n",
            "8\t|\t10\n",
            "9\t|\t10\n",
            "10\t|\t10\n"
          ]
        }
      ]
    },
    {
      "cell_type": "markdown",
      "metadata": {
        "id": "A_NnkWRIpQdE"
      },
      "source": [
        "## For\n",
        "\n",
        "For Loop is used for repeating over a sequence (list, tuple, dictionary, set, etc.)."
      ]
    },
    {
      "cell_type": "code",
      "metadata": {
        "id": "bAAiaiG2pSxe",
        "colab": {
          "base_uri": "https://localhost:8080/",
          "height": 0
        },
        "outputId": "332efb1e-4aa3-45c1-a7b4-81256f1ef946"
      },
      "source": [
        "# for(int = 0; 1<10; i++){\n",
        "#printf(i)\n",
        "# }\n",
        "\n",
        "i = 0\n",
        "for i in range(11):\n",
        "  print(i)"
      ],
      "execution_count": 40,
      "outputs": [
        {
          "output_type": "stream",
          "name": "stdout",
          "text": [
            "0\n",
            "1\n",
            "2\n",
            "3\n",
            "4\n",
            "5\n",
            "6\n",
            "7\n",
            "8\n",
            "9\n",
            "10\n"
          ]
        }
      ]
    },
    {
      "cell_type": "code",
      "metadata": {
        "id": "tazpM3qaqYcU",
        "colab": {
          "base_uri": "https://localhost:8080/",
          "height": 0
        },
        "outputId": "6377a863-83c8-485a-b857-2e2a5c4d3acc"
      },
      "source": [
        "playlist = [\"Bahay Kubo\", \"Magandang Kanta\", \"Kono Dio Da!!\"]\n",
        "print('Now Playing:\\n')\n",
        "for song in playlist:\n",
        "  print(song)"
      ],
      "execution_count": 41,
      "outputs": [
        {
          "output_type": "stream",
          "name": "stdout",
          "text": [
            "Now Playing:\n",
            "\n",
            "Bahay Kubo\n",
            "Magandang Kanta\n",
            "Kono Dio Da!!\n"
          ]
        }
      ]
    },
    {
      "cell_type": "markdown",
      "metadata": {
        "id": "HaoLm_KtrMke"
      },
      "source": [
        "## Flow Control\n",
        "\n",
        "Flow control as its name suggest, the flow of order in which the inputted codes\n",
        "are being executed."
      ]
    },
    {
      "cell_type": "markdown",
      "metadata": {
        "id": "4Q8H0Ag1rSnS"
      },
      "source": [
        "### Condition Statements\n",
        "\n",
        "This are statements wherein a hypothesis is followed by a conclusion."
      ]
    },
    {
      "cell_type": "code",
      "metadata": {
        "colab": {
          "base_uri": "https://localhost:8080/",
          "height": 0
        },
        "id": "Ff44Gh0SrVpa",
        "outputId": "161d2e40-b919-4091-967e-f4e67f74c6a3"
      },
      "source": [
        "num_1, num_2 = 14, 12\n",
        "if(num_1 == num_2):\n",
        "  print(\"HaHa\")\n",
        "elif(num_1>num_2):\n",
        "  print(\"HoHo\")\n",
        "else:\n",
        "  print(\"HuHu\")"
      ],
      "execution_count": 42,
      "outputs": [
        {
          "output_type": "stream",
          "name": "stdout",
          "text": [
            "HoHo\n"
          ]
        }
      ]
    },
    {
      "cell_type": "markdown",
      "metadata": {
        "id": "eJ4FrBaBsJeC"
      },
      "source": [
        "## Functions\n",
        "\n",
        "The Function is a piece of code which can only operate when it is 'run'.\n",
        "You can input the data, which is also called parameters, into a function.\n",
        "A function show its output data as a result.\n"
      ]
    },
    {
      "cell_type": "code",
      "metadata": {
        "id": "Kl8sS-trsYTd"
      },
      "source": [
        "# void DeleteUser (int userid){\n",
        "#   delete(userid);\n",
        "#}\n",
        "\n",
        "def delete_user (userid):\n",
        "  print(\"Successfully deleted user: {}\".format(userid))\n"
      ],
      "execution_count": 43,
      "outputs": []
    },
    {
      "cell_type": "code",
      "metadata": {
        "id": "TfYVLo7Dt2Wb",
        "colab": {
          "base_uri": "https://localhost:8080/",
          "height": 0
        },
        "outputId": "f062b812-638d-4a36-c4f3-84ea43d2dc74"
      },
      "source": [
        "userid = 2020_100100\n",
        "delete_user(2020_100100)"
      ],
      "execution_count": 44,
      "outputs": [
        {
          "output_type": "stream",
          "name": "stdout",
          "text": [
            "Successfully deleted user: 2020100100\n"
          ]
        }
      ]
    },
    {
      "cell_type": "code",
      "metadata": {
        "id": "AZYVzfN2uVJ4"
      },
      "source": [
        "def add(addend1, addend2):\n",
        "  sum = addend1 + addend2\n",
        "  return sum"
      ],
      "execution_count": 45,
      "outputs": []
    },
    {
      "cell_type": "code",
      "metadata": {
        "colab": {
          "base_uri": "https://localhost:8080/",
          "height": 0
        },
        "id": "thCYgYTMvEZB",
        "outputId": "4732b4e4-e4e8-4fa0-93d2-8cfd420349c4"
      },
      "source": [
        "add(5, 4)"
      ],
      "execution_count": 46,
      "outputs": [
        {
          "output_type": "execute_result",
          "data": {
            "text/plain": [
              "9"
            ]
          },
          "metadata": {},
          "execution_count": 46
        }
      ]
    },
    {
      "cell_type": "markdown",
      "metadata": {
        "id": "llwNkwz27VAh"
      },
      "source": [
        "![image](https://seeklogo.com/images/P/python-logo-C50EED1930-seeklogo.com.png)"
      ]
    }
  ]
}