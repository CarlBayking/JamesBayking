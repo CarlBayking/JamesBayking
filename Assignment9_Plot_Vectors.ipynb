{
  "nbformat": 4,
  "nbformat_minor": 0,
  "metadata": {
    "colab": {
      "name": "Assignment9-Plot Vectors.ipynb",
      "provenance": [],
      "authorship_tag": "ABX9TyON9wKpv9XgMI59DSWKQgkI",
      "include_colab_link": true
    },
    "kernelspec": {
      "name": "python3",
      "display_name": "Python 3"
    },
    "language_info": {
      "name": "python"
    }
  },
  "cells": [
    {
      "cell_type": "markdown",
      "metadata": {
        "id": "view-in-github",
        "colab_type": "text"
      },
      "source": [
        "<a href=\"https://colab.research.google.com/github/CarlBayking/JamesBayking/blob/main/Assignment9_Plot_Vectors.ipynb\" target=\"_parent\"><img src=\"https://colab.research.google.com/assets/colab-badge.svg\" alt=\"Open In Colab\"/></a>"
      ]
    },
    {
      "cell_type": "markdown",
      "metadata": {
        "id": "EwimTehzOuz6"
      },
      "source": [
        "### LAB 2-Plotting Vector using NumPy and MatPlotLib\n",
        "\n",
        "In this laboratory we will be discussing the basics of numerical and scientific programming by working with Vectors using NumPy and MatPlotLib."
      ]
    },
    {
      "cell_type": "markdown",
      "metadata": {
        "id": "cHf2o0WtO3hp"
      },
      "source": [
        "OBJECTIVES:\n",
        "At the end of this activity you will be able to:\n",
        "1. Be familiar with the libraries in Python for numerical and scientific programming.\n",
        "2. Visualize vectors through Python programming.\n",
        "3. Perform simple vector operations through code."
      ]
    },
    {
      "cell_type": "markdown",
      "metadata": {
        "id": "RJAKH8Jz15l0"
      },
      "source": [
        "### NumPy\n",
        "\n",
        "NumPy or Numerical Python, is mainly used for matrix and vector operations. It is capable of declaring computing and representing matrices. Most Python scientific programming libraries uses NumPy as the basic code."
      ]
    },
    {
      "cell_type": "markdown",
      "metadata": {
        "id": "x6ln40kC1-3b"
      },
      "source": [
        "Scalars \\\\\n",
        "Represent magnitude or a single value\n",
        "\n",
        "Vectors \\\\\n",
        "Represent magnitude with directors"
      ]
    },
    {
      "cell_type": "markdown",
      "metadata": {
        "id": "2IQL6I-DPp3i"
      },
      "source": [
        "### Representing Vectors"
      ]
    },
    {
      "cell_type": "markdown",
      "metadata": {
        "id": "KvUUkgPaPnci"
      },
      "source": [
        "$$ A = 4\\hat{x} + 3\\hat{y} \\\\\n",
        "B = 2\\hat{x} - 5\\hat{y}\\\\\n",
        "C = 4ax + 3ay - 2az \\\\\n",
        "D = 2\\hat{i} - 2\\hat{j} + 3\\hat{k}$$\n"
      ]
    },
    {
      "cell_type": "markdown",
      "metadata": {
        "id": "7QIXGu3gQYyK"
      },
      "source": [
        "$$ A = \\begin{bmatrix} 4 \\\\ 3\\end{bmatrix} , B = \\begin{bmatrix} 2 \\\\ -5\\end{bmatrix} , C = \\begin{bmatrix} 4 \\\\ 3 \\\\  -2 \\end{bmatrix} ,D = \\begin{bmatrix} 2 \\\\ -2 \\\\3\\end{bmatrix}\n",
        "$$\n"
      ]
    },
    {
      "cell_type": "markdown",
      "metadata": {
        "id": "F6Qefe2S2CtM"
      },
      "source": [
        "In which it's matrix equivalent is:"
      ]
    },
    {
      "cell_type": "markdown",
      "metadata": {
        "id": "WZO1-9kjRnmK"
      },
      "source": [
        "$$ A = \\begin{bmatrix} 4 & 3\\end{bmatrix} , B = \\begin{bmatrix} 2 & -5\\end{bmatrix} ,C = \\begin{bmatrix} 4 & 3 &  -2 \\end{bmatrix}, D = \\begin{bmatrix} 2 & -2 &3\\end{bmatrix}\n",
        "$$"
      ]
    },
    {
      "cell_type": "code",
      "metadata": {
        "id": "nNJxv-7vSBjb"
      },
      "source": [
        "import numpy as np ## 'np' here is short-hand name of the library (numpy) or a nickname."
      ],
      "execution_count": 1,
      "outputs": []
    },
    {
      "cell_type": "code",
      "metadata": {
        "colab": {
          "base_uri": "https://localhost:8080/"
        },
        "id": "jPs1_qJ7SHOR",
        "outputId": "e9dd64c0-4eb5-4eb8-ff31-16d32ea28102"
      },
      "source": [
        "A = np.array([4, 3])\n",
        "B = np.array([2, -5])\n",
        "C = np.array([\n",
        "              [4],\n",
        "              [3],\n",
        "              [-2]\n",
        "])\n",
        "D = np.array ([[2],\n",
        "              [-2],\n",
        "              [3]])\n",
        "print('Vector A is ', A)\n",
        "print('Vector B is ', B)\n",
        "print('Vector C is ', C)\n",
        "print('Vector D is ', D)"
      ],
      "execution_count": 4,
      "outputs": [
        {
          "output_type": "stream",
          "name": "stdout",
          "text": [
            "Vector A is  [4 3]\n",
            "Vector B is  [ 2 -5]\n",
            "Vector C is  [[ 4]\n",
            " [ 3]\n",
            " [-2]]\n",
            "Vector D is  [[ 2]\n",
            " [-2]\n",
            " [ 3]]\n"
          ]
        }
      ]
    },
    {
      "cell_type": "markdown",
      "metadata": {
        "id": "Bm5yukW-4Q1i"
      },
      "source": [
        "#### Describing vectors in NumPy\n",
        "\n",
        "Describing vectors is very important if we want to perform basic to advanced operations with them. The fundamental ways in describing vectors are knowing their shape, size and dimensions."
      ]
    },
    {
      "cell_type": "code",
      "metadata": {
        "colab": {
          "base_uri": "https://localhost:8080/"
        },
        "id": "y6HSUCUS4WkU",
        "outputId": "96571785-57c1-4d27-a33a-538b453a06ad"
      },
      "source": [
        "### Checking shapes\n",
        "### Shapes tells us how many elements are there on each row and column\n",
        "\n",
        "A.shape\n",
        "H = np.array([1, 0, 2, 5, -0.2, 0])\n",
        "H.shape\n",
        "C.shape"
      ],
      "execution_count": 5,
      "outputs": [
        {
          "output_type": "execute_result",
          "data": {
            "text/plain": [
              "(3, 1)"
            ]
          },
          "metadata": {},
          "execution_count": 5
        }
      ]
    },
    {
      "cell_type": "code",
      "metadata": {
        "colab": {
          "base_uri": "https://localhost:8080/"
        },
        "id": "3Uo0tp6t4YmS",
        "outputId": "7ca75e49-25e4-4638-9765-9a3adbf6efa9"
      },
      "source": [
        "### Checking size\n",
        "### Array/Vector sizes tells us many total number of elements are there in the vector\n",
        "\n",
        "D.size"
      ],
      "execution_count": 6,
      "outputs": [
        {
          "output_type": "execute_result",
          "data": {
            "text/plain": [
              "3"
            ]
          },
          "metadata": {},
          "execution_count": 6
        }
      ]
    },
    {
      "cell_type": "code",
      "metadata": {
        "colab": {
          "base_uri": "https://localhost:8080/"
        },
        "id": "UljxDWMr4aUq",
        "outputId": "3eed2c4f-25de-4b89-f209-18fba77b3324"
      },
      "source": [
        "### Checking dimensions\n",
        "### The dimensions or rank of a vector tells us how many dimensions are there for the vector.\n",
        "\n",
        "D.ndim"
      ],
      "execution_count": 7,
      "outputs": [
        {
          "output_type": "execute_result",
          "data": {
            "text/plain": [
              "2"
            ]
          },
          "metadata": {},
          "execution_count": 7
        }
      ]
    },
    {
      "cell_type": "markdown",
      "metadata": {
        "id": "XJrmXVoi4ipc"
      },
      "source": [
        "#### Addition\n",
        "\n",
        "The addition rule is simple, the we just need to add the elements of the matrices according to their index. So in this case if we add vector $A$ and vector $B$ we will have a resulting vector:"
      ]
    },
    {
      "cell_type": "markdown",
      "metadata": {
        "id": "qaMOrtMy4n9i"
      },
      "source": [
        "$$R = 6\\hat{x}-2\\hat{y} \\\\ \\\\or \\\\ \\\\ R = \\begin{bmatrix} 6 \\\\ -2\\end{bmatrix} $$"
      ]
    },
    {
      "cell_type": "code",
      "metadata": {
        "id": "DhBmIngS4qoy"
      },
      "source": [
        "R = np.add(A, B) ## this is the functional method usisng the numpy library\n",
        "P = np.add(C, D)"
      ],
      "execution_count": 8,
      "outputs": []
    },
    {
      "cell_type": "code",
      "metadata": {
        "id": "BzvCsY6q4tWr",
        "colab": {
          "base_uri": "https://localhost:8080/"
        },
        "outputId": "24d19ad7-9340-4230-fc7c-ef8fb41abd34"
      },
      "source": [
        "R = A + B   ## this is the explicit method, since Python does a value-reference so it can \n",
        "            ## know that these variables would need to do array operations.\n",
        "R"
      ],
      "execution_count": 9,
      "outputs": [
        {
          "output_type": "execute_result",
          "data": {
            "text/plain": [
              "array([ 6, -2])"
            ]
          },
          "metadata": {},
          "execution_count": 9
        }
      ]
    },
    {
      "cell_type": "code",
      "metadata": {
        "id": "PMNaXJoj4wMj",
        "colab": {
          "base_uri": "https://localhost:8080/"
        },
        "outputId": "1056a612-8f02-4248-8d1e-404cf74355bd"
      },
      "source": [
        "pos1 = np.array([0,0,0])\n",
        "pos2 = np.array([0,1,3])\n",
        "pos3 = np.array([1,5,-2])\n",
        "pos4 = np.array([5,-3,3])\n",
        "#R = pos1 + pos2 + pos3 + pos4\n",
        "#R = np.multiply(pos3, pos4)\n",
        "R = pos3 / pos4\n",
        "R"
      ],
      "execution_count": 10,
      "outputs": [
        {
          "output_type": "execute_result",
          "data": {
            "text/plain": [
              "array([ 0.2       , -1.66666667, -0.66666667])"
            ]
          },
          "metadata": {},
          "execution_count": 10
        }
      ]
    },
    {
      "cell_type": "markdown",
      "metadata": {
        "id": "t6EaUM3849AD"
      },
      "source": [
        "Try to implement subtraction, multiplication, and division with vectors $A$ and $B$!"
      ]
    },
    {
      "cell_type": "code",
      "metadata": {
        "id": "lRIGKQXj42uT",
        "colab": {
          "base_uri": "https://localhost:8080/"
        },
        "outputId": "e9e57d97-3fa8-4d80-b27e-1a4fda5f74c1"
      },
      "source": [
        "### Try out you code here!\n",
        "A = np.array([7, 9, 8])\n",
        "B = np.array([1, 4, 2])\n",
        "\n",
        "SubtractVectors = np.subtract(A, B)\n",
        "print(SubtractVectors)\n",
        "MultiplyVectors = np.multiply(A, B)\n",
        "print(MultiplyVectors)\n",
        "DivisionVectors = np.divide(A, B)\n",
        "print(DivisionVectors)"
      ],
      "execution_count": 15,
      "outputs": [
        {
          "output_type": "stream",
          "name": "stdout",
          "text": [
            "[6 5 6]\n",
            "[ 7 36 16]\n",
            "[7.   2.25 4.  ]\n"
          ]
        }
      ]
    },
    {
      "cell_type": "markdown",
      "metadata": {
        "id": "6rnKwY_r5Aqz"
      },
      "source": [
        "### Scaling\n",
        "\n",
        "Scaling or scalar multiplication takes a scalar value and performs multiplication with a vector. Let's take the example below:"
      ]
    },
    {
      "cell_type": "markdown",
      "metadata": {
        "id": "empu-Oai5GXT"
      },
      "source": [
        "$$S = 5 \\cdot A$$"
      ]
    },
    {
      "cell_type": "markdown",
      "metadata": {
        "id": "eFMCe8Gu5Kca"
      },
      "source": [
        "We can do this in numpy through:"
      ]
    },
    {
      "cell_type": "code",
      "metadata": {
        "id": "VAu1Te-_5Mo7",
        "colab": {
          "base_uri": "https://localhost:8080/"
        },
        "outputId": "f4a5e2f6-9033-4e9b-de13-3d528bfc26af"
      },
      "source": [
        "#S = 5 * A\n",
        "S = np.multiply(5,A)\n",
        "S"
      ],
      "execution_count": 11,
      "outputs": [
        {
          "output_type": "execute_result",
          "data": {
            "text/plain": [
              "array([20, 15])"
            ]
          },
          "metadata": {},
          "execution_count": 11
        }
      ]
    },
    {
      "cell_type": "markdown",
      "metadata": {
        "id": "Yfop47ul5PbT"
      },
      "source": [
        "Try to implement scaling with two vectors."
      ]
    },
    {
      "cell_type": "code",
      "metadata": {
        "id": "FlNWzuNI5UVz",
        "colab": {
          "base_uri": "https://localhost:8080/"
        },
        "outputId": "c76cc025-b396-4a00-eca8-8608424a8710"
      },
      "source": [
        "### Try out you code here! \n",
        "SN = 10 #ScalingNumber\n",
        "Vector1 = np.array([9 ,9 ,9])\n",
        "Vector2 = np.array([8, 8 ,8])\n",
        "\n",
        "Scale =SN* Vector1, Vector2\n",
        "print(Scale)"
      ],
      "execution_count": 16,
      "outputs": [
        {
          "output_type": "stream",
          "name": "stdout",
          "text": [
            "(array([90, 90, 90]), array([8, 8, 8]))\n"
          ]
        }
      ]
    },
    {
      "cell_type": "markdown",
      "metadata": {
        "id": "cCgC0XU35XuK"
      },
      "source": [
        "### MatPlotLib\n",
        "\n",
        "MatPlotLib or MATLab Plotting library is Python's take on MATLabs plotting feature. MatPlotLib can be used vastly from graping values to visualizing several dimensions of data."
      ]
    },
    {
      "cell_type": "markdown",
      "metadata": {
        "id": "_K8_ySQV5bbi"
      },
      "source": [
        "#### Visualizing Data\n",
        "\n",
        "It's not enough just solving these vectors so might need to visualize them. So we'll use MatPlotLib for that. We'll need to import it first."
      ]
    },
    {
      "cell_type": "code",
      "metadata": {
        "id": "ol5C78OoYLU_"
      },
      "source": [
        "import matplotlib.pyplot as plt\n",
        "import matplotlib\n",
        "%matplotlib inline"
      ],
      "execution_count": 13,
      "outputs": []
    },
    {
      "cell_type": "code",
      "metadata": {
        "colab": {
          "base_uri": "https://localhost:8080/",
          "height": 265
        },
        "id": "UTOZBqwOY2D_",
        "outputId": "b1426b33-951d-467a-85fd-064765089b74"
      },
      "source": [
        "A = [1, 1]\n",
        "B = [1, 2] \n",
        "plt.scatter(A[0], A[1], label='A', c='green')\n",
        "plt.scatter(B[0], B[1], label='B', c='magenta')\n",
        "plt.plot(A, Label = 'A')\n",
        "plt.plot(B, Label = 'B')\n",
        "plt.legend()\n",
        "plt.show()"
      ],
      "execution_count": 17,
      "outputs": [
        {
          "output_type": "display_data",
          "data": {
            "image/png": "[encoded data removed]",
            "text/plain": [
              "<Figure size 432x288 with 1 Axes>"
            ]
          },
          "metadata": {
            "needs_background": "light"
          }
        }
      ]
    },
    {
      "cell_type": "code",
      "metadata": {
        "colab": {
          "base_uri": "https://localhost:8080/",
          "height": 269
        },
        "id": "h95oHpPU6Qhi",
        "outputId": "b5ba4597-7c4c-40b7-bec0-688249ae9ebf"
      },
      "source": [
        "n = A.shape[0]\n",
        "plt.xlim(-10, 10)\n",
        "plt.ylim(-10, 10)\n",
        "plt.quiver(0,0, A[0], A[1], angles='xy', scale_units='xy',scale=1)\n",
        "plt.quiver(A[0],A[1], B[0], B[1], angles='xy', scale_units='xy',scale=1)\n",
        "plt.quiver(0,0, R[0], R[1], angles='xy', scale_units='xy',scale=1)\n",
        "plt.show()"
      ],
      "execution_count": 47,
      "outputs": [
        {
          "output_type": "display_data",
          "data": {
            "image/png": "[encoded data removed]",
            "text/plain": [
              "<Figure size 432x288 with 1 Axes>"
            ]
          },
          "metadata": {
            "needs_background": "light"
          }
        }
      ]
    },
    {
      "cell_type": "markdown",
      "metadata": {
        "id": "26T5MNSm6bqa"
      },
      "source": [
        "Try plotting Three Vectors and show the Resultant Vector as a result.\n",
        "Use Head to Tail Method."
      ]
    },
    {
      "cell_type": "code",
      "metadata": {
        "colab": {
          "base_uri": "https://localhost:8080/",
          "height": 282
        },
        "id": "Y8qMNHIntUto",
        "outputId": "daeace83-72f0-4593-93ef-f1f392e32214"
      },
      "source": [
        "A = np.array([1, -8])\n",
        "B = np.array([1, 8])\n",
        "C = np.array([1, 9])\n",
        "plt.xlim(-9, 9)\n",
        "plt.ylim(-9, 9)\n",
        "Q1 = plt.quiver(0,0, A[0], A[1], angles='xy', scale_units='xy',scale=1, color=\"blue\")\n",
        "Q2 = plt.quiver(A[0],A[1], B[0], B[1], angles='xy', scale_units='xy',scale=1, color=\"red\")\n",
        "Q3 = plt.quiver(2,0, C[0], C[1], angles='xy', scale_units='xy',scale=1, color=\"green\") ## ZAIDO!!!\n",
        "R = A + B + C\n",
        "plt.quiver(0,0, R[0], R[1], angles='xy', scale_units='xy',scale=1, color=\"yellow\")\n",
        "plt.grid()\n",
        "plt.show()\n",
        "print(\"The Resultant of the three Vectors is\", R)"
      ],
      "execution_count": 44,
      "outputs": [
        {
          "output_type": "display_data",
          "data": {
            "image/png": "[encoded data removed]",
            "text/plain": [
              "<Figure size 432x288 with 1 Axes>"
            ]
          },
          "metadata": {
            "needs_background": "light"
          }
        },
        {
          "output_type": "stream",
          "name": "stdout",
          "text": [
            "The Resultant of the three Vectors is [3 9]\n"
          ]
        }
      ]
    },
    {
      "cell_type": "markdown",
      "metadata": {
        "id": "GahHnBMnEna0"
      },
      "source": [
        "###\tConclusion\n",
        "In this Laboratory Exercise, We were tasked to memorize and visualize vectors using the Python language with Colab as medium.in this experiment, the main focus command is the “import matplotlib.pyplot as plt;import matplotlib; %matplotlib inline”\n",
        "This command is used so when we inputted a command that can plot your values, this is one of the commands that is needed to make plotting possible. The Method in how the Colab application has done the plotting is thru the use of hed to tail method.\n"
      ]
    }
  ]
}